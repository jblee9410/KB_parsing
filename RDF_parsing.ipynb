{
 "cells": [
  {
   "cell_type": "code",
   "execution_count": 1,
   "metadata": {},
   "outputs": [],
   "source": [
    "import json\n",
    "import copy\n",
    "import gzip\n",
    "import glob\n",
    "import random\n",
    "import rdflib as rdf\n",
    "import os\n",
    "from tqdm import tqdm_notebook\n",
    "from rdflib import Graph\n",
    "from collections import Counter"
   ]
  },
  {
   "cell_type": "code",
   "execution_count": 12,
   "metadata": {},
   "outputs": [],
   "source": [
    "class RDFReader:\n",
    "    __graph = None\n",
    "    __freq = {}\n",
    "\n",
    "    def __init__(self, file_name):\n",
    "\n",
    "        self.__graph = rdf.Graph()\n",
    "\n",
    "        file_path = os.path.join(\"../dataset/raw_dataset\", file_name)\n",
    "        self.__graph.parse(file_path, format=\"ttl\")    \n",
    "        self.__freq = Counter(self.__graph.predicates())\n",
    "\n",
    "        print(\"Graph loaded, frequencies counted.\")\n",
    "    \n",
    "    def triples(self, relation=None):\n",
    "        for s, p, o in self.__graph.triples((None, relation, None)):\n",
    "            yield s, p, o\n",
    "\n",
    "    def __enter__(self):\n",
    "        return self\n",
    "\n",
    "    def __exit__(self, exc_type, exc_value, traceback):\n",
    "        self.__graph.destroy(\"store\")\n",
    "        self.__graph.close(True)\n",
    "\n",
    "    def subjectSet(self):\n",
    "        return set(self.__graph.subjects())\n",
    "\n",
    "    def objectSet(self):\n",
    "        return set(self.__graph.objects())\n",
    "\n",
    "    def relationList(self):\n",
    "        \"\"\"\n",
    "        Returns a list of relations, ordered descending by frequenecy\n",
    "        :return:\n",
    "        \"\"\"\n",
    "        res = list(set(self.__graph.predicates()))\n",
    "        res.sort(key=lambda rel: -self.freq(rel))\n",
    "        return res\n",
    "\n",
    "    def __len__(self):\n",
    "        return len(self.__graph)\n",
    "\n",
    "    def freq(self, relation):\n",
    "        \"\"\"zzz\n",
    "        The frequency of this relation (how many distinct triples does it occur in?)\n",
    "        :param relation:\n",
    "        :return:\n",
    "        \"\"\"\n",
    "        if relation not in self.__freq:\n",
    "            return 0\n",
    "        return self.__freq[relation]"
   ]
  },
  {
   "cell_type": "code",
   "execution_count": 6,
   "metadata": {},
   "outputs": [],
   "source": [
    "file_dir = \"../dataset/raw_dataset\"\n",
    "file_ext = \".ttl\"\n",
    "file_list = [os.path.join(file_dir, _) for _ in os.listdir(file_dir) if _.endswith(file_ext)]"
   ]
  },
  {
   "cell_type": "code",
   "execution_count": 10,
   "metadata": {},
   "outputs": [],
   "source": [
    "# for item in file_list:\n",
    "#     print(item)"
   ]
  },
  {
   "cell_type": "code",
   "execution_count": 20,
   "metadata": {},
   "outputs": [
    {
     "name": "stdout",
     "output_type": "stream",
     "text": [
      "Graph loaded, frequencies counted.\n"
     ]
    }
   ],
   "source": [
    "with RDFReader(\"06_Food.ttl\") as reader:\n",
    "    relations = reader.relationList()\n",
    "    subjects = reader.subjectSet()\n",
    "    objects = reader.objectSet()"
   ]
  },
  {
   "cell_type": "code",
   "execution_count": 33,
   "metadata": {},
   "outputs": [
    {
     "name": "stderr",
     "output_type": "stream",
     "text": [
      "<ipython-input-33-5d1d43b23aad>:3: TqdmDeprecationWarning: This function will be removed in tqdm==5.0.0\n",
      "Please use `tqdm.notebook.tqdm` instead of `tqdm.tqdm_notebook`\n",
      "  for rel in tqdm_notebook(relations):\n"
     ]
    },
    {
     "data": {
      "application/vnd.jupyter.widget-view+json": {
       "model_id": "56a5e78ed5b741b8bc64d14f05226a30",
       "version_major": 2,
       "version_minor": 0
      },
      "text/plain": [
       "  0%|          | 0/97 [00:00<?, ?it/s]"
      ]
     },
     "metadata": {},
     "output_type": "display_data"
    }
   ],
   "source": [
    "triple_set = set()\n",
    "entity_relation = set()\n",
    "for rel in tqdm_notebook(relations):\n",
    "#     if \"relatedTerm\" in rel:\n",
    "#         continue\n",
    "    thereis_entity = False\n",
    "    for j, (s,p,o) in enumerate(reader.triples(relation=rel)):\n",
    "        if 'http://kb.saltlux.ai/resource' in s and len(s.split(' ')) == 1:\n",
    "            if 'http://kb.saltlux.ai/resource' in o and len(o.split(' ')) == 1:\n",
    "                triple_set.add((s.strip(),p.strip(),o.strip()))\n",
    "                thereis_entity = True\n",
    "    if thereis_entity:\n",
    "        entity_relation.add(rel)"
   ]
  },
  {
   "cell_type": "code",
   "execution_count": 34,
   "metadata": {},
   "outputs": [
    {
     "name": "stderr",
     "output_type": "stream",
     "text": [
      "<ipython-input-34-124b32737618>:2: TqdmDeprecationWarning: This function will be removed in tqdm==5.0.0\n",
      "Please use `tqdm.notebook.tqdm` instead of `tqdm.tqdm_notebook`\n",
      "  for rel in tqdm_notebook(list(entity_relation)):\n"
     ]
    },
    {
     "data": {
      "application/vnd.jupyter.widget-view+json": {
       "model_id": "196b3d0437ce4ec2980e4e43848e5a4f",
       "version_major": 2,
       "version_minor": 0
      },
      "text/plain": [
       "  0%|          | 0/57 [00:00<?, ?it/s]"
      ]
     },
     "metadata": {},
     "output_type": "display_data"
    }
   ],
   "source": [
    "entities = set()\n",
    "for rel in tqdm_notebook(list(entity_relation)):\n",
    "    for j, (s,p,o) in enumerate(reader.triples(relation=rel)):\n",
    "        if 'http://kb.saltlux.ai/resource' in s:\n",
    "            if len(s.split(' ')) == 1:\n",
    "                entities.add(s.strip())\n",
    "        if 'http://kb.saltlux.ai/resource' in o:\n",
    "            if len(o.split(' ')) == 1:\n",
    "                entities.add(o.strip())"
   ]
  },
  {
   "cell_type": "code",
   "execution_count": 35,
   "metadata": {},
   "outputs": [],
   "source": [
    "split_ratio = 0.05\n",
    "random.seed(1234)\n",
    "\n",
    "triple_list = list(triple_set)\n",
    "random.shuffle(triple_list)\n",
    "test_list = triple_list[:int(len(triple_list)*split_ratio)]\n",
    "valid_list = triple_list[int(len(triple_list)*split_ratio):2*int(len(triple_list)*split_ratio)]\n",
    "train_list = triple_list[int(2*len(triple_list)*split_ratio):]"
   ]
  },
  {
   "cell_type": "code",
   "execution_count": 36,
   "metadata": {},
   "outputs": [
    {
     "name": "stdout",
     "output_type": "stream",
     "text": [
      "5691\n",
      "57\n",
      "13526\n",
      "751\n",
      "751\n"
     ]
    }
   ],
   "source": [
    "print(len(entities))\n",
    "print(len(entity_relation))\n",
    "print(len(train_list))\n",
    "print(len(valid_list))\n",
    "print(len(test_list))"
   ]
  },
  {
   "cell_type": "code",
   "execution_count": 37,
   "metadata": {},
   "outputs": [
    {
     "name": "stderr",
     "output_type": "stream",
     "text": [
      "<ipython-input-37-44c081b929dd>:10: TqdmDeprecationWarning: This function will be removed in tqdm==5.0.0\n",
      "Please use `tqdm.notebook.tqdm` instead of `tqdm.tqdm_notebook`\n",
      "  for i, item in enumerate(tqdm_notebook(train_list)):\n"
     ]
    },
    {
     "data": {
      "application/vnd.jupyter.widget-view+json": {
       "model_id": "e22f182ea74d4850828580637534ae20",
       "version_major": 2,
       "version_minor": 0
      },
      "text/plain": [
       "  0%|          | 0/13526 [00:00<?, ?it/s]"
      ]
     },
     "metadata": {},
     "output_type": "display_data"
    },
    {
     "name": "stderr",
     "output_type": "stream",
     "text": [
      "<ipython-input-37-44c081b929dd>:13: TqdmDeprecationWarning: This function will be removed in tqdm==5.0.0\n",
      "Please use `tqdm.notebook.tqdm` instead of `tqdm.tqdm_notebook`\n",
      "  for i, item in enumerate(tqdm_notebook(valid_list)):\n"
     ]
    },
    {
     "data": {
      "application/vnd.jupyter.widget-view+json": {
       "model_id": "ad75eb8e35d54b139d6e80d41ab7ba8f",
       "version_major": 2,
       "version_minor": 0
      },
      "text/plain": [
       "  0%|          | 0/751 [00:00<?, ?it/s]"
      ]
     },
     "metadata": {},
     "output_type": "display_data"
    },
    {
     "name": "stderr",
     "output_type": "stream",
     "text": [
      "<ipython-input-37-44c081b929dd>:16: TqdmDeprecationWarning: This function will be removed in tqdm==5.0.0\n",
      "Please use `tqdm.notebook.tqdm` instead of `tqdm.tqdm_notebook`\n",
      "  for i, item in enumerate(tqdm_notebook(test_list)):\n"
     ]
    },
    {
     "data": {
      "application/vnd.jupyter.widget-view+json": {
       "model_id": "cb5df458fbff468d9581831f38656e47",
       "version_major": 2,
       "version_minor": 0
      },
      "text/plain": [
       "  0%|          | 0/751 [00:00<?, ?it/s]"
      ]
     },
     "metadata": {},
     "output_type": "display_data"
    }
   ],
   "source": [
    "name = \"food\"\n",
    "\n",
    "with open(os.path.join(file_dir, name, 'entities.dict'), 'w', encoding=\"utf-8\") as f_e:\n",
    "    for i, item in enumerate(list(entities)):\n",
    "        f_e.write(str(i) + '\\t' + item + '\\n')\n",
    "with open(os.path.join(file_dir, name, 'relations.dict'), 'w', encoding=\"utf-8\") as f_r:\n",
    "    for i, item in enumerate(list(entity_relation)):\n",
    "        f_r.write(str(i) + '\\t' + item + '\\n')\n",
    "with open(os.path.join(file_dir, name, 'train.txt'), 'w', encoding=\"utf-8\") as f_tr:\n",
    "    for i, item in enumerate(tqdm_notebook(train_list)):\n",
    "        f_tr.write(item[0] + '\\t' + item[1] + '\\t' + item[2] + '\\n')\n",
    "with open(os.path.join(file_dir, name, 'valid.txt'), 'w', encoding=\"utf-8\") as f_v:\n",
    "    for i, item in enumerate(tqdm_notebook(valid_list)):\n",
    "        f_v.write(item[0] + '\\t' + item[1] + '\\t' + item[2] + '\\n')\n",
    "with open(os.path.join(file_dir, name, 'test.txt'), 'w', encoding=\"utf-8\") as f_te:\n",
    "    for i, item in enumerate(tqdm_notebook(test_list)):\n",
    "        f_te.write(item[0] + '\\t' + item[1] + '\\t' + item[2] + '\\n')"
   ]
  },
  {
   "cell_type": "code",
   "execution_count": null,
   "metadata": {},
   "outputs": [],
   "source": []
  }
 ],
 "metadata": {
  "kernelspec": {
   "display_name": "Python 3",
   "language": "python",
   "name": "python3"
  },
  "language_info": {
   "codemirror_mode": {
    "name": "ipython",
    "version": 3
   },
   "file_extension": ".py",
   "mimetype": "text/x-python",
   "name": "python",
   "nbconvert_exporter": "python",
   "pygments_lexer": "ipython3",
   "version": "3.8.3"
  }
 },
 "nbformat": 4,
 "nbformat_minor": 4
}
